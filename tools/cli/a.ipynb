{
 "cells": [
  {
   "cell_type": "code",
   "execution_count": null,
   "metadata": {},
   "outputs": [],
   "source": [
    "# df.push_to: qa_bdp/P0_JupyterNotebookOperator\n",
    "# df.push_to.end\n",
    "# df.push_to: qa_sirius/P0_JupyterNotebookOperator\n",
    "# df.push_to.end\n",
    "# runafter: blank_step_to_test_runafter.sql\n",
    "%%configure -f\n",
    "{\n",
    "    \"executorMemory\":\"1G\",\n",
    "    \"executorCores\":\"1\",\n",
    "    \"queue\": \"default\",\n",
    "    \"driverMemory\": \"1G\",\n",
    "    \"files\": [\"hdfs://hdp/tmp/dna_dataflow/qa_big/user/svc_acc_test/jupyter_spark_extra/py_file2.py\",\"hdfs://hdp/tmp/dna_dataflow/qa_big/user/svc_acc_test/jupyter_spark_extra/py_text.txt\"],\n",
    "    \"pyFiles\": [\"hdfs://hdp/udf/sirius/elminster.zip\", \"hdfs://hdp/tmp/dna_dataflow/qa_big/user/svc_acc_test/jupyter_spark_extra/py_file2.zip\"],\n",
    "    \"numExecutors\": 2,\n",
    "    \"archives\": [],\n",
    "    \"name\": \"test_spark\",\n",
    "    \"jars\": [],\n",
    "    \"conf\": {\"spark.sql.files.ignoreMissingFiles\": \"true\",\n",
    "            \"spark.jars.packages\": \"graphframes:graphframes:0.7.0-spark2.4-s_2.11\",\n",
    "            \"spark.executor.memoryOverhead\": 10000}\n",
    "}"
   ]
  },
  {
   "cell_type": "code",
   "execution_count": null,
   "metadata": {},
   "outputs": [],
   "source": [
    "from pyspark.sql import SparkSession, SQLContext\n",
    "import sys\n",
    "import os\n",
    "import re\n",
    "import datetime"
   ]
  },
  {
   "cell_type": "code",
   "execution_count": null,
   "metadata": {},
   "outputs": [],
   "source": [
    "spark = SparkSession \\\n",
    ".builder \\\n",
    ".appName('py3_spark') \\\n",
    ".enableHiveSupport() \\\n",
    ".config('spark.sql.extensions', 'com.qubole.spark.datasources.hiveacid.HiveAcidAutoConvertBuilder') \\\n",
    ".getOrCreate()"
   ]
  },
  {
   "cell_type": "code",
   "execution_count": null,
   "metadata": {},
   "outputs": [],
   "source": [
    "# spark.sql('select * from team_dna_dataflow.uat_df_test_jupyter_spark order by id desc limit 20').show()"
   ]
  },
  {
   "cell_type": "code",
   "execution_count": null,
   "metadata": {},
   "outputs": [],
   "source": [
    "spark.stop()"
   ]
  }
 ],
 "metadata": {
  "kernelspec": {
   "display_name": "PySpark",
   "language": "python",
   "name": "pysparkkernel"
  },
  "language_info": {
   "codemirror_mode": {
    "name": "python",
    "version": 3
   },
   "mimetype": "text/x-python",
   "name": "pyspark",
   "pygments_lexer": "python3"
  }
 },
 "nbformat": 4,
 "nbformat_minor": 4
}
